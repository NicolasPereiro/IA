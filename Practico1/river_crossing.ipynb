{
 "cells": [
  {
   "cell_type": "markdown",
   "metadata": {},
   "source": [
    "## Práctico 1: River Crossing"
   ]
  },
  {
   "cell_type": "markdown",
   "metadata": {},
   "source": [
    "El objetivo de este práctico es comenzar a familiarizarse con el funcionamiento de los ambientes de gym/gymnasium"
   ]
  },
  {
   "cell_type": "markdown",
   "metadata": {},
   "source": [
    "### Dependencias"
   ]
  },
  {
   "cell_type": "code",
   "execution_count": 4,
   "metadata": {},
   "outputs": [],
   "source": [
    "from river_crossing_env import RiverCrossingEnv\n",
    "from input_agent import InputAgent\n",
    "from random_agent import RandomAgent\n",
    "from river_crossing_utils import finish\n"
   ]
  },
  {
   "cell_type": "code",
   "execution_count": 5,
   "metadata": {},
   "outputs": [
    {
     "name": "stdout",
     "output_type": "stream",
     "text": [
      "/bin/sh: line 1: poetry: command not found\n"
     ]
    }
   ],
   "source": [
    "!poetry env info"
   ]
  },
  {
   "cell_type": "markdown",
   "metadata": {},
   "source": [
    "### Espacio de acciones y observaciones"
   ]
  },
  {
   "cell_type": "code",
   "execution_count": 6,
   "metadata": {},
   "outputs": [],
   "source": [
    "env = RiverCrossingEnv()"
   ]
  },
  {
   "cell_type": "code",
   "execution_count": 7,
   "metadata": {},
   "outputs": [
    {
     "data": {
      "text/plain": [
       "Dict('Aside': Discrete(2), 'Bside': Discrete(2), 'Cside': Discrete(2), 'Dside': Discrete(2))"
      ]
     },
     "execution_count": 7,
     "metadata": {},
     "output_type": "execute_result"
    }
   ],
   "source": [
    "env.observation_space"
   ]
  },
  {
   "cell_type": "code",
   "execution_count": 8,
   "metadata": {},
   "outputs": [
    {
     "data": {
      "text/plain": [
       "{'Aside': np.int64(1),\n",
       " 'Bside': np.int64(1),\n",
       " 'Cside': np.int64(0),\n",
       " 'Dside': np.int64(0)}"
      ]
     },
     "execution_count": 8,
     "metadata": {},
     "output_type": "execute_result"
    }
   ],
   "source": [
    "env.observation_space.sample()"
   ]
  },
  {
   "cell_type": "code",
   "execution_count": 9,
   "metadata": {},
   "outputs": [
    {
     "data": {
      "text/plain": [
       "Dict('direction': Discrete(2), 'person1': Discrete(4), 'person2': Discrete(4))"
      ]
     },
     "execution_count": 9,
     "metadata": {},
     "output_type": "execute_result"
    }
   ],
   "source": [
    "env.action_space"
   ]
  },
  {
   "cell_type": "code",
   "execution_count": 8,
   "metadata": {},
   "outputs": [
    {
     "data": {
      "text/plain": [
       "{'direction': np.int64(1), 'person1': np.int64(3), 'person2': np.int64(3)}"
      ]
     },
     "execution_count": 8,
     "metadata": {},
     "output_type": "execute_result"
    }
   ],
   "source": [
    "env.action_space.sample()"
   ]
  },
  {
   "cell_type": "markdown",
   "metadata": {},
   "source": [
    "### Input Agent"
   ]
  },
  {
   "cell_type": "markdown",
   "metadata": {},
   "source": [
    "Comencemos realizando un agente input, en el cual proporcionaremos la acción para ser ejecutada sobre el ambiente"
   ]
  },
  {
   "cell_type": "code",
   "execution_count": null,
   "metadata": {},
   "outputs": [],
   "source": [
    "# Instanciar el entorno\n",
    "env = RiverCrossingEnv()\n",
    "obs = env.reset()\n",
    "done = False\n",
    "\n",
    "# Instanciar el agente\n",
    "input_agent = InputAgent()\n",
    "\n",
    "# Esqueleto\n",
    "while not done:\n",
    "    # Renderizar el entorno (opcional)\n",
    "    env.render()\n",
    "    \n",
    "    # Obtener la acción del agente\n",
    "    action = input_agent.next_action(obs)\n",
    "        \n",
    "    # Ejecutar la acción en el entorno\n",
    "    obs, reward, done, info = env.step(action)\n",
    "    \n",
    "env.render()\n",
    "finish(reward)"
   ]
  },
  {
   "cell_type": "markdown",
   "metadata": {},
   "source": [
    "### Random Agent"
   ]
  },
  {
   "cell_type": "markdown",
   "metadata": {},
   "source": [
    "Codifique un agente que ejecute acciones aleatorias sobre el ambiente"
   ]
  },
  {
   "cell_type": "code",
   "execution_count": 36,
   "metadata": {},
   "outputs": [
    {
     "name": "stdout",
     "output_type": "stream",
     "text": [
      "ABCD //// Empty\n",
      "BC //// AD\n",
      "BC //// AD\n",
      "BC //// AD\n",
      "BC //// AD\n",
      "BC //// AD\n",
      "BC //// AD\n",
      "BC //// AD\n",
      "BC //// AD\n",
      "BC //// AD\n",
      "BC //// AD\n",
      "BC //// AD\n",
      "BC //// AD\n",
      "BC //// AD\n",
      "BC //// AD\n",
      "BC //// AD\n",
      "ABCD //// Empty\n",
      "Try again!\n"
     ]
    }
   ],
   "source": [
    "import random \n",
    "\n",
    "env = RiverCrossingEnv()\n",
    "obs = env.reset()\n",
    "done = False\n",
    "\n",
    "#Random Agent\n",
    "random_agent = RandomAgent()\n",
    "\n",
    "while not done:\n",
    "    env.render()\n",
    "    action = random_agent.next_action(obs)\n",
    "    obs, reward, done, info = env.step(action)\n",
    "\n",
    "env.render()\n",
    "finish(reward)\n"
   ]
  },
  {
   "cell_type": "markdown",
   "metadata": {},
   "source": [
    "### Action List Agent"
   ]
  },
  {
   "cell_type": "markdown",
   "metadata": {},
   "source": [
    "Codifique un agente que ejecute acciones que provienen de una lista de acciones predefinidas. El agente debe ejecutar las acciones en orden."
   ]
  },
  {
   "cell_type": "markdown",
   "metadata": {},
   "source": [
    "### Simple Reflex Agent"
   ]
  },
  {
   "cell_type": "markdown",
   "metadata": {},
   "source": [
    "Codifique un agente que ejecute acciones basadas en una estrategia."
   ]
  }
 ],
 "metadata": {
  "kernelspec": {
   "display_name": "Python 3",
   "language": "python",
   "name": "python3"
  },
  "language_info": {
   "codemirror_mode": {
    "name": "ipython",
    "version": 3
   },
   "file_extension": ".py",
   "mimetype": "text/x-python",
   "name": "python",
   "nbconvert_exporter": "python",
   "pygments_lexer": "ipython3",
   "version": "3.12.9"
  }
 },
 "nbformat": 4,
 "nbformat_minor": 2
}
