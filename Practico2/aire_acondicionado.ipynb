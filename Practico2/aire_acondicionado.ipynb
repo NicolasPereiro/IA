{
 "cells": [
  {
   "cell_type": "code",
   "execution_count": 1,
   "metadata": {},
   "outputs": [
    {
     "ename": "ImportError",
     "evalue": "DLL load failed while importing _cext: The specified module could not be found.",
     "output_type": "error",
     "traceback": [
      "\u001b[1;31m---------------------------------------------------------------------------\u001b[0m",
      "\u001b[1;31mImportError\u001b[0m                               Traceback (most recent call last)",
      "Cell \u001b[1;32mIn[1], line 4\u001b[0m\n\u001b[0;32m      2\u001b[0m \u001b[38;5;28;01mfrom\u001b[39;00m \u001b[38;5;21;01mgymnasium\u001b[39;00m \u001b[38;5;28;01mimport\u001b[39;00m error, spaces, utils, Env\n\u001b[0;32m      3\u001b[0m \u001b[38;5;28;01mimport\u001b[39;00m \u001b[38;5;21;01mnumpy\u001b[39;00m \u001b[38;5;28;01mas\u001b[39;00m \u001b[38;5;21;01mnp\u001b[39;00m\n\u001b[1;32m----> 4\u001b[0m \u001b[38;5;28;01mimport\u001b[39;00m \u001b[38;5;21;01mmatplotlib\u001b[39;00m\u001b[38;5;21;01m.\u001b[39;00m\u001b[38;5;21;01mpyplot\u001b[39;00m \u001b[38;5;28;01mas\u001b[39;00m \u001b[38;5;21;01mplt\u001b[39;00m\n\u001b[0;32m      5\u001b[0m \u001b[38;5;28;01mfrom\u001b[39;00m \u001b[38;5;21;01msklearn\u001b[39;00m\u001b[38;5;21;01m.\u001b[39;00m\u001b[38;5;21;01mmetrics\u001b[39;00m \u001b[38;5;28;01mimport\u001b[39;00m mean_squared_error, mean_absolute_error\n",
      "File \u001b[1;32mc:\\idsem7\\ia\\Practico2\\.venv\\lib\\site-packages\\matplotlib\\__init__.py:263\u001b[0m\n\u001b[0;32m    258\u001b[0m         \u001b[38;5;28;01mif\u001b[39;00m parse_version(module\u001b[38;5;241m.\u001b[39m__version__) \u001b[38;5;241m<\u001b[39m parse_version(minver):\n\u001b[0;32m    259\u001b[0m             \u001b[38;5;28;01mraise\u001b[39;00m \u001b[38;5;167;01mImportError\u001b[39;00m(\u001b[38;5;124mf\u001b[39m\u001b[38;5;124m\"\u001b[39m\u001b[38;5;124mMatplotlib requires \u001b[39m\u001b[38;5;132;01m{\u001b[39;00mmodname\u001b[38;5;132;01m}\u001b[39;00m\u001b[38;5;124m>=\u001b[39m\u001b[38;5;132;01m{\u001b[39;00mminver\u001b[38;5;132;01m}\u001b[39;00m\u001b[38;5;124m; \u001b[39m\u001b[38;5;124m\"\u001b[39m\n\u001b[0;32m    260\u001b[0m                               \u001b[38;5;124mf\u001b[39m\u001b[38;5;124m\"\u001b[39m\u001b[38;5;124myou have \u001b[39m\u001b[38;5;132;01m{\u001b[39;00mmodule\u001b[38;5;241m.\u001b[39m__version__\u001b[38;5;132;01m}\u001b[39;00m\u001b[38;5;124m\"\u001b[39m)\n\u001b[1;32m--> 263\u001b[0m \u001b[43m_check_versions\u001b[49m\u001b[43m(\u001b[49m\u001b[43m)\u001b[49m\n\u001b[0;32m    266\u001b[0m \u001b[38;5;66;03m# The decorator ensures this always returns the same handler (and it is only\u001b[39;00m\n\u001b[0;32m    267\u001b[0m \u001b[38;5;66;03m# attached once).\u001b[39;00m\n\u001b[0;32m    268\u001b[0m \u001b[38;5;129m@functools\u001b[39m\u001b[38;5;241m.\u001b[39mcache\n\u001b[0;32m    269\u001b[0m \u001b[38;5;28;01mdef\u001b[39;00m \u001b[38;5;21m_ensure_handler\u001b[39m():\n",
      "File \u001b[1;32mc:\\idsem7\\ia\\Practico2\\.venv\\lib\\site-packages\\matplotlib\\__init__.py:257\u001b[0m, in \u001b[0;36m_check_versions\u001b[1;34m()\u001b[0m\n\u001b[0;32m    248\u001b[0m \u001b[38;5;28;01mfrom\u001b[39;00m \u001b[38;5;21;01m.\u001b[39;00m \u001b[38;5;28;01mimport\u001b[39;00m ft2font  \u001b[38;5;66;03m# noqa: F401\u001b[39;00m\n\u001b[0;32m    250\u001b[0m \u001b[38;5;28;01mfor\u001b[39;00m modname, minver \u001b[38;5;129;01min\u001b[39;00m [\n\u001b[0;32m    251\u001b[0m         (\u001b[38;5;124m\"\u001b[39m\u001b[38;5;124mcycler\u001b[39m\u001b[38;5;124m\"\u001b[39m, \u001b[38;5;124m\"\u001b[39m\u001b[38;5;124m0.10\u001b[39m\u001b[38;5;124m\"\u001b[39m),\n\u001b[0;32m    252\u001b[0m         (\u001b[38;5;124m\"\u001b[39m\u001b[38;5;124mdateutil\u001b[39m\u001b[38;5;124m\"\u001b[39m, \u001b[38;5;124m\"\u001b[39m\u001b[38;5;124m2.7\u001b[39m\u001b[38;5;124m\"\u001b[39m),\n\u001b[1;32m   (...)\u001b[0m\n\u001b[0;32m    255\u001b[0m         (\u001b[38;5;124m\"\u001b[39m\u001b[38;5;124mpyparsing\u001b[39m\u001b[38;5;124m\"\u001b[39m, \u001b[38;5;124m\"\u001b[39m\u001b[38;5;124m2.3.1\u001b[39m\u001b[38;5;124m\"\u001b[39m),\n\u001b[0;32m    256\u001b[0m ]:\n\u001b[1;32m--> 257\u001b[0m     module \u001b[38;5;241m=\u001b[39m \u001b[43mimportlib\u001b[49m\u001b[38;5;241;43m.\u001b[39;49m\u001b[43mimport_module\u001b[49m\u001b[43m(\u001b[49m\u001b[43mmodname\u001b[49m\u001b[43m)\u001b[49m\n\u001b[0;32m    258\u001b[0m     \u001b[38;5;28;01mif\u001b[39;00m parse_version(module\u001b[38;5;241m.\u001b[39m__version__) \u001b[38;5;241m<\u001b[39m parse_version(minver):\n\u001b[0;32m    259\u001b[0m         \u001b[38;5;28;01mraise\u001b[39;00m \u001b[38;5;167;01mImportError\u001b[39;00m(\u001b[38;5;124mf\u001b[39m\u001b[38;5;124m\"\u001b[39m\u001b[38;5;124mMatplotlib requires \u001b[39m\u001b[38;5;132;01m{\u001b[39;00mmodname\u001b[38;5;132;01m}\u001b[39;00m\u001b[38;5;124m>=\u001b[39m\u001b[38;5;132;01m{\u001b[39;00mminver\u001b[38;5;132;01m}\u001b[39;00m\u001b[38;5;124m; \u001b[39m\u001b[38;5;124m\"\u001b[39m\n\u001b[0;32m    260\u001b[0m                           \u001b[38;5;124mf\u001b[39m\u001b[38;5;124m\"\u001b[39m\u001b[38;5;124myou have \u001b[39m\u001b[38;5;132;01m{\u001b[39;00mmodule\u001b[38;5;241m.\u001b[39m__version__\u001b[38;5;132;01m}\u001b[39;00m\u001b[38;5;124m\"\u001b[39m)\n",
      "File \u001b[1;32m~\\AppData\\Local\\Programs\\Python\\Python310\\lib\\importlib\\__init__.py:126\u001b[0m, in \u001b[0;36mimport_module\u001b[1;34m(name, package)\u001b[0m\n\u001b[0;32m    124\u001b[0m             \u001b[38;5;28;01mbreak\u001b[39;00m\n\u001b[0;32m    125\u001b[0m         level \u001b[38;5;241m+\u001b[39m\u001b[38;5;241m=\u001b[39m \u001b[38;5;241m1\u001b[39m\n\u001b[1;32m--> 126\u001b[0m \u001b[38;5;28;01mreturn\u001b[39;00m \u001b[43m_bootstrap\u001b[49m\u001b[38;5;241;43m.\u001b[39;49m\u001b[43m_gcd_import\u001b[49m\u001b[43m(\u001b[49m\u001b[43mname\u001b[49m\u001b[43m[\u001b[49m\u001b[43mlevel\u001b[49m\u001b[43m:\u001b[49m\u001b[43m]\u001b[49m\u001b[43m,\u001b[49m\u001b[43m \u001b[49m\u001b[43mpackage\u001b[49m\u001b[43m,\u001b[49m\u001b[43m \u001b[49m\u001b[43mlevel\u001b[49m\u001b[43m)\u001b[49m\n",
      "File \u001b[1;32mc:\\idsem7\\ia\\Practico2\\.venv\\lib\\site-packages\\kiwisolver\\__init__.py:8\u001b[0m\n\u001b[0;32m      1\u001b[0m \u001b[38;5;66;03m# --------------------------------------------------------------------------------------\u001b[39;00m\n\u001b[0;32m      2\u001b[0m \u001b[38;5;66;03m# Copyright (c) 2013-2022, Nucleic Development Team.\u001b[39;00m\n\u001b[0;32m      3\u001b[0m \u001b[38;5;66;03m#\u001b[39;00m\n\u001b[1;32m   (...)\u001b[0m\n\u001b[0;32m      6\u001b[0m \u001b[38;5;66;03m# The full license is in the file LICENSE, distributed with this software.\u001b[39;00m\n\u001b[0;32m      7\u001b[0m \u001b[38;5;66;03m# --------------------------------------------------------------------------------------\u001b[39;00m\n\u001b[1;32m----> 8\u001b[0m \u001b[38;5;28;01mfrom\u001b[39;00m \u001b[38;5;21;01m.\u001b[39;00m\u001b[38;5;21;01m_cext\u001b[39;00m \u001b[38;5;28;01mimport\u001b[39;00m (\n\u001b[0;32m      9\u001b[0m     Constraint,\n\u001b[0;32m     10\u001b[0m     Expression,\n\u001b[0;32m     11\u001b[0m     Solver,\n\u001b[0;32m     12\u001b[0m     Term,\n\u001b[0;32m     13\u001b[0m     Variable,\n\u001b[0;32m     14\u001b[0m     __kiwi_version__,\n\u001b[0;32m     15\u001b[0m     __version__,\n\u001b[0;32m     16\u001b[0m     strength,\n\u001b[0;32m     17\u001b[0m )\n\u001b[0;32m     18\u001b[0m \u001b[38;5;28;01mfrom\u001b[39;00m \u001b[38;5;21;01m.\u001b[39;00m\u001b[38;5;21;01mexceptions\u001b[39;00m \u001b[38;5;28;01mimport\u001b[39;00m (\n\u001b[0;32m     19\u001b[0m     BadRequiredStrength,\n\u001b[0;32m     20\u001b[0m     DuplicateConstraint,\n\u001b[1;32m   (...)\u001b[0m\n\u001b[0;32m     24\u001b[0m     UnsatisfiableConstraint,\n\u001b[0;32m     25\u001b[0m )\n\u001b[0;32m     27\u001b[0m __all__ \u001b[38;5;241m=\u001b[39m [\n\u001b[0;32m     28\u001b[0m     \u001b[38;5;124m\"\u001b[39m\u001b[38;5;124mBadRequiredStrength\u001b[39m\u001b[38;5;124m\"\u001b[39m,\n\u001b[0;32m     29\u001b[0m     \u001b[38;5;124m\"\u001b[39m\u001b[38;5;124mDuplicateConstraint\u001b[39m\u001b[38;5;124m\"\u001b[39m,\n\u001b[1;32m   (...)\u001b[0m\n\u001b[0;32m     41\u001b[0m     \u001b[38;5;124m\"\u001b[39m\u001b[38;5;124m__kiwi_version__\u001b[39m\u001b[38;5;124m\"\u001b[39m,\n\u001b[0;32m     42\u001b[0m ]\n",
      "\u001b[1;31mImportError\u001b[0m: DLL load failed while importing _cext: The specified module could not be found."
     ]
    }
   ],
   "source": [
    "import gymnasium\n",
    "from gymnasium import error, spaces, utils, Env\n",
    "import numpy as np\n",
    "import matplotlib.pyplot as plt\n",
    "from sklearn.metrics import mean_squared_error, mean_absolute_error"
   ]
  },
  {
   "cell_type": "markdown",
   "metadata": {},
   "source": [
    "# Descripción del problema\n",
    "\n",
    "El siguiente ejemplo consiste en un Ambiente (Room). La temperatura de la habitación cambia debido a la temperatura externa ambiente (se asume de forma desconocida). La habitación cuenta con un equipo de Aire Acondicionado controlado por un Agente. El objetivo de este Agente es mantener la temperatura en 0 grados. El Aire Acondicionado puede cambiar la temperatura en 0, 1, 2 o 3 grados ya sea frío o calor."
   ]
  },
  {
   "cell_type": "markdown",
   "metadata": {},
   "source": [
    "# Ambiente\n",
    "\n",
    "El ambiente (Room) está simulado por el siguiente código"
   ]
  },
  {
   "cell_type": "code",
   "execution_count": 7,
   "metadata": {},
   "outputs": [],
   "source": [
    "class Room(Env):\n",
    "    \n",
    "    def __init__(self):\n",
    "        self.observation_space = spaces.Box(low=-20, high=40, shape=(), dtype=np.float32)\n",
    "        self.action_space = spaces.Discrete(7, start=-3)\n",
    "                  \n",
    "    def reset(self):\n",
    "        self.step_count = 0\n",
    "        self.initial_random = self.observation_space.sample()\n",
    "        self.external_temp = 0\n",
    "        self.external_temp = self._temp_variation()\n",
    "        self.temp = self.external_temp\n",
    "        return self.temp\n",
    "    \n",
    "    def step(self, action):\n",
    "        delta_temp = self._temp_variation()\n",
    "        self.external_temp += delta_temp\n",
    "        self.temp += delta_temp + action\n",
    "        self.step_count += 1\n",
    "        return self.temp\n",
    "\n",
    "    def _temp_variation(self):\n",
    "        x = self.initial_random + self.step_count\n",
    "        return np.float64('%.2f'%(20 * np.sin(x/10))) - self.external_temp \n",
    "          "
   ]
  },
  {
   "cell_type": "markdown",
   "metadata": {},
   "source": [
    "# Test Room"
   ]
  },
  {
   "cell_type": "code",
   "execution_count": 8,
   "metadata": {},
   "outputs": [],
   "source": [
    "env = Room()"
   ]
  },
  {
   "cell_type": "code",
   "execution_count": 9,
   "metadata": {},
   "outputs": [
    {
     "data": {
      "text/plain": [
       "Box(-20.0, 40.0, (), float32)"
      ]
     },
     "execution_count": 9,
     "metadata": {},
     "output_type": "execute_result"
    }
   ],
   "source": [
    "env.observation_space"
   ]
  },
  {
   "cell_type": "code",
   "execution_count": 10,
   "metadata": {},
   "outputs": [
    {
     "data": {
      "text/plain": [
       "array(6.2797675, dtype=float32)"
      ]
     },
     "execution_count": 10,
     "metadata": {},
     "output_type": "execute_result"
    }
   ],
   "source": [
    "env.observation_space.sample()"
   ]
  },
  {
   "cell_type": "code",
   "execution_count": 11,
   "metadata": {},
   "outputs": [
    {
     "data": {
      "text/plain": [
       "Discrete(7, start=-3)"
      ]
     },
     "execution_count": 11,
     "metadata": {},
     "output_type": "execute_result"
    }
   ],
   "source": [
    "env.action_space"
   ]
  },
  {
   "cell_type": "code",
   "execution_count": 12,
   "metadata": {},
   "outputs": [
    {
     "data": {
      "text/plain": [
       "np.int64(3)"
      ]
     },
     "execution_count": 12,
     "metadata": {},
     "output_type": "execute_result"
    }
   ],
   "source": [
    "env.action_space.sample()"
   ]
  },
  {
   "cell_type": "code",
   "execution_count": 13,
   "metadata": {},
   "outputs": [
    {
     "data": {
      "text/plain": [
       "np.float64(-9.09)"
      ]
     },
     "execution_count": 13,
     "metadata": {},
     "output_type": "execute_result"
    }
   ],
   "source": [
    "env.reset()"
   ]
  },
  {
   "cell_type": "markdown",
   "metadata": {},
   "source": [
    "# Reflex Agent\n",
    "\n",
    "Esta es la implementación de un Agente Reflejo Simple, que dada la observación (temperatura de la habitación), toma una acción de enfriar o calentar en 0, 1, 2 o 3 grados. El agente solo enfría o calienta si la temperatura difiere en más de 2 grados."
   ]
  },
  {
   "cell_type": "code",
   "execution_count": 14,
   "metadata": {},
   "outputs": [],
   "source": [
    "class AgentReflex():\n",
    "\n",
    "    def lookup(self, obs):\n",
    "        if obs > 9:\n",
    "            return -3\n",
    "        elif obs > 5:\n",
    "            return -2\n",
    "        elif obs > 2:\n",
    "            return -1\n",
    "        elif obs < -9:\n",
    "            return 3\n",
    "        elif obs < -5:\n",
    "            return 2\n",
    "        elif obs < -2:\n",
    "            return 1\n",
    "        else:\n",
    "            return 0"
   ]
  },
  {
   "cell_type": "markdown",
   "metadata": {},
   "source": [
    "# Test Reflex"
   ]
  },
  {
   "cell_type": "code",
   "execution_count": 15,
   "metadata": {},
   "outputs": [],
   "source": [
    "agent = AgentReflex()"
   ]
  },
  {
   "cell_type": "code",
   "execution_count": 16,
   "metadata": {},
   "outputs": [],
   "source": [
    "obs = env.reset()\n",
    "external_res = []\n",
    "agent_res = []\n",
    "total_steps = 100"
   ]
  },
  {
   "cell_type": "code",
   "execution_count": 17,
   "metadata": {},
   "outputs": [
    {
     "name": "stdout",
     "output_type": "stream",
     "text": [
      "External: 19.26 \n",
      " Prev. Obs: 19.26 -> Action: -3 -> Room: 16.26\n",
      "External: 19.26 \n",
      " Prev. Obs: 16.26 -> Action: -3 -> Room: 13.7\n",
      "External: 19.7 \n",
      " Prev. Obs: 13.7 -> Action: -3 -> Room: 10.95\n",
      "External: 19.95 \n",
      " Prev. Obs: 10.95 -> Action: -3 -> Room: 7.989999999999998\n",
      "External: 19.99 \n",
      " Prev. Obs: 7.989999999999998 -> Action: -2 -> Room: 5.84\n",
      "External: 19.84 \n",
      " Prev. Obs: 5.84 -> Action: -2 -> Room: 3.4800000000000004\n",
      "External: 19.48 \n",
      " Prev. Obs: 3.4800000000000004 -> Action: -1 -> Room: 1.9400000000000013\n",
      "External: 18.94 \n",
      " Prev. Obs: 1.9400000000000013 -> Action: 0 -> Room: 1.1999999999999993\n",
      "External: 18.2 \n",
      " Prev. Obs: 1.1999999999999993 -> Action: 0 -> Room: 0.28000000000000114\n",
      "External: 17.28 \n",
      " Prev. Obs: 0.28000000000000114 -> Action: 0 -> Room: -0.8099999999999987\n",
      "External: 16.19 \n",
      " Prev. Obs: -0.8099999999999987 -> Action: 0 -> Room: -2.0600000000000005\n",
      "External: 14.94 \n",
      " Prev. Obs: -2.0600000000000005 -> Action: 1 -> Room: -2.4700000000000006\n",
      "External: 13.53 \n",
      " Prev. Obs: -2.4700000000000006 -> Action: 1 -> Room: -3.0\n",
      "External: 12.0 \n",
      " Prev. Obs: -3.0 -> Action: 1 -> Room: -3.66\n",
      "External: 10.34 \n",
      " Prev. Obs: -3.66 -> Action: 1 -> Room: -4.42\n",
      "External: 8.58 \n",
      " Prev. Obs: -4.42 -> Action: 1 -> Room: -5.27\n",
      "External: 6.73 \n",
      " Prev. Obs: -5.27 -> Action: 2 -> Room: -5.18\n",
      "External: 4.82 \n",
      " Prev. Obs: -5.18 -> Action: 2 -> Room: -5.15\n",
      "External: 2.85 \n",
      " Prev. Obs: -5.15 -> Action: 2 -> Room: -5.140000000000001\n",
      "External: 0.8599999999999999 \n",
      " Prev. Obs: -5.140000000000001 -> Action: 2 -> Room: -5.130000000000001\n",
      "External: -1.13 \n",
      " Prev. Obs: -5.130000000000001 -> Action: 2 -> Room: -5.120000000000001\n",
      "External: -3.12 \n",
      " Prev. Obs: -5.120000000000001 -> Action: 2 -> Room: -5.080000000000001\n",
      "External: -5.08 \n",
      " Prev. Obs: -5.080000000000001 -> Action: 2 -> Room: -4.980000000000001\n",
      "External: -6.98 \n",
      " Prev. Obs: -4.980000000000001 -> Action: 1 -> Room: -5.820000000000001\n",
      "External: -8.82 \n",
      " Prev. Obs: -5.820000000000001 -> Action: 2 -> Room: -5.570000000000001\n",
      "External: -10.57 \n",
      " Prev. Obs: -5.570000000000001 -> Action: 2 -> Room: -5.210000000000002\n",
      "External: -12.21 \n",
      " Prev. Obs: -5.210000000000002 -> Action: 2 -> Room: -4.730000000000001\n",
      "External: -13.73 \n",
      " Prev. Obs: -4.730000000000001 -> Action: 1 -> Room: -5.11\n",
      "External: -15.11 \n",
      " Prev. Obs: -5.11 -> Action: 2 -> Room: -4.350000000000002\n",
      "External: -16.35 \n",
      " Prev. Obs: -4.350000000000002 -> Action: 1 -> Room: -4.420000000000003\n",
      "External: -17.42 \n",
      " Prev. Obs: -4.420000000000003 -> Action: 1 -> Room: -4.31\n",
      "External: -18.31 \n",
      " Prev. Obs: -4.31 -> Action: 1 -> Room: -4.0200000000000005\n",
      "External: -19.02 \n",
      " Prev. Obs: -4.0200000000000005 -> Action: 1 -> Room: -3.54\n",
      "External: -19.54 \n",
      " Prev. Obs: -3.54 -> Action: 1 -> Room: -2.870000000000002\n",
      "External: -19.87 \n",
      " Prev. Obs: -2.870000000000002 -> Action: 1 -> Room: -2.000000000000001\n",
      "External: -20.0 \n",
      " Prev. Obs: -2.000000000000001 -> Action: 1 -> Room: -0.9300000000000006\n",
      "External: -19.93 \n",
      " Prev. Obs: -0.9300000000000006 -> Action: 0 -> Room: -0.660000000000001\n",
      "External: -19.66 \n",
      " Prev. Obs: -0.660000000000001 -> Action: 0 -> Room: -0.19000000000000217\n",
      "External: -19.19 \n",
      " Prev. Obs: -0.19000000000000217 -> Action: 0 -> Room: 0.469999999999998\n",
      "External: -18.53 \n",
      " Prev. Obs: 0.469999999999998 -> Action: 0 -> Room: 1.3199999999999994\n",
      "External: -17.68 \n",
      " Prev. Obs: 1.3199999999999994 -> Action: 0 -> Room: 2.339999999999999\n",
      "External: -16.66 \n",
      " Prev. Obs: 2.339999999999999 -> Action: -1 -> Room: 2.5199999999999987\n",
      "External: -15.48 \n",
      " Prev. Obs: 2.5199999999999987 -> Action: -1 -> Room: 2.8699999999999983\n",
      "External: -14.13 \n",
      " Prev. Obs: 2.8699999999999983 -> Action: -1 -> Room: 3.3499999999999988\n",
      "External: -12.65 \n",
      " Prev. Obs: 3.3499999999999988 -> Action: -1 -> Room: 3.96\n",
      "External: -11.04 \n",
      " Prev. Obs: 3.96 -> Action: -1 -> Room: 4.679999999999999\n",
      "External: -9.32 \n",
      " Prev. Obs: 4.679999999999999 -> Action: -1 -> Room: 5.489999999999999\n",
      "External: -7.51 \n",
      " Prev. Obs: 5.489999999999999 -> Action: -2 -> Room: 5.379999999999999\n",
      "External: -5.62 \n",
      " Prev. Obs: 5.379999999999999 -> Action: -2 -> Room: 5.3199999999999985\n",
      "External: -3.68 \n",
      " Prev. Obs: 5.3199999999999985 -> Action: -2 -> Room: 5.309999999999999\n",
      "External: -1.69 \n",
      " Prev. Obs: 5.309999999999999 -> Action: -2 -> Room: 5.299999999999999\n",
      "External: 0.30000000000000004 \n",
      " Prev. Obs: 5.299999999999999 -> Action: -2 -> Room: 5.299999999999999\n",
      "External: 2.3 \n",
      " Prev. Obs: 5.299999999999999 -> Action: -2 -> Room: 5.269999999999999\n",
      "External: 4.27 \n",
      " Prev. Obs: 5.269999999999999 -> Action: -2 -> Room: 5.199999999999999\n",
      "External: 6.2 \n",
      " Prev. Obs: 5.199999999999999 -> Action: -2 -> Room: 5.069999999999999\n",
      "External: 8.07 \n",
      " Prev. Obs: 5.069999999999999 -> Action: -2 -> Room: 4.849999999999999\n",
      "External: 9.85 \n",
      " Prev. Obs: 4.849999999999999 -> Action: -1 -> Room: 5.539999999999998\n",
      "External: 11.54 \n",
      " Prev. Obs: 5.539999999999998 -> Action: -2 -> Room: 5.1099999999999985\n",
      "External: 13.11 \n",
      " Prev. Obs: 5.1099999999999985 -> Action: -2 -> Room: 4.56\n",
      "External: 14.56 \n",
      " Prev. Obs: 4.56 -> Action: -1 -> Room: 4.849999999999999\n",
      "External: 15.85 \n",
      " Prev. Obs: 4.849999999999999 -> Action: -1 -> Room: 4.9899999999999975\n",
      "External: 16.99 \n",
      " Prev. Obs: 4.9899999999999975 -> Action: -1 -> Room: 4.96\n",
      "External: 17.96 \n",
      " Prev. Obs: 4.96 -> Action: -1 -> Room: 4.749999999999999\n",
      "External: 18.75 \n",
      " Prev. Obs: 4.749999999999999 -> Action: -1 -> Room: 4.3500000000000005\n",
      "External: 19.35 \n",
      " Prev. Obs: 4.3500000000000005 -> Action: -1 -> Room: 3.7600000000000007\n",
      "External: 19.76 \n",
      " Prev. Obs: 3.7600000000000007 -> Action: -1 -> Room: 2.969999999999998\n",
      "External: 19.97 \n",
      " Prev. Obs: 2.969999999999998 -> Action: -1 -> Room: 1.9799999999999995\n",
      "External: 19.98 \n",
      " Prev. Obs: 1.9799999999999995 -> Action: 0 -> Room: 1.7899999999999983\n",
      "External: 19.79 \n",
      " Prev. Obs: 1.7899999999999983 -> Action: 0 -> Room: 1.4099999999999993\n",
      "External: 19.41 \n",
      " Prev. Obs: 1.4099999999999993 -> Action: 0 -> Room: 0.8299999999999974\n",
      "External: 18.83 \n",
      " Prev. Obs: 0.8299999999999974 -> Action: 0 -> Room: 0.05999999999999783\n",
      "External: 18.06 \n",
      " Prev. Obs: 0.05999999999999783 -> Action: 0 -> Room: -0.8900000000000015\n",
      "External: 17.11 \n",
      " Prev. Obs: -0.8900000000000015 -> Action: 0 -> Room: -2.0100000000000007\n",
      "External: 15.99 \n",
      " Prev. Obs: -2.0100000000000007 -> Action: 1 -> Room: -2.29\n",
      "External: 14.71 \n",
      " Prev. Obs: -2.29 -> Action: 1 -> Room: -2.7200000000000015\n",
      "External: 13.28 \n",
      " Prev. Obs: -2.7200000000000015 -> Action: 1 -> Room: -3.2700000000000005\n",
      "External: 11.73 \n",
      " Prev. Obs: -3.2700000000000005 -> Action: 1 -> Room: -3.95\n",
      "External: 10.05 \n",
      " Prev. Obs: -3.95 -> Action: 1 -> Room: -4.730000000000001\n",
      "External: 8.27 \n",
      " Prev. Obs: -4.730000000000001 -> Action: 1 -> Room: -5.590000000000001\n",
      "External: 6.41 \n",
      " Prev. Obs: -5.590000000000001 -> Action: 2 -> Room: -5.510000000000001\n",
      "External: 4.49 \n",
      " Prev. Obs: -5.510000000000001 -> Action: 2 -> Room: -5.48\n",
      "External: 2.52 \n",
      " Prev. Obs: -5.48 -> Action: 2 -> Room: -5.470000000000001\n",
      "External: 0.53 \n",
      " Prev. Obs: -5.470000000000001 -> Action: 2 -> Room: -5.470000000000001\n",
      "External: -1.47 \n",
      " Prev. Obs: -5.470000000000001 -> Action: 2 -> Room: -5.450000000000001\n",
      "External: -3.45 \n",
      " Prev. Obs: -5.450000000000001 -> Action: 2 -> Room: -5.400000000000001\n",
      "External: -5.4 \n",
      " Prev. Obs: -5.400000000000001 -> Action: 2 -> Room: -5.300000000000001\n",
      "External: -7.3 \n",
      " Prev. Obs: -5.300000000000001 -> Action: 2 -> Room: -5.12\n",
      "External: -9.12 \n",
      " Prev. Obs: -5.12 -> Action: 2 -> Room: -4.8500000000000005\n",
      "External: -10.85 \n",
      " Prev. Obs: -4.8500000000000005 -> Action: 1 -> Room: -5.480000000000001\n",
      "External: -12.48 \n",
      " Prev. Obs: -5.480000000000001 -> Action: 2 -> Room: -4.9700000000000015\n",
      "External: -13.97 \n",
      " Prev. Obs: -4.9700000000000015 -> Action: 1 -> Room: -5.330000000000001\n",
      "External: -15.33 \n",
      " Prev. Obs: -5.330000000000001 -> Action: 2 -> Room: -4.54\n",
      "External: -16.54 \n",
      " Prev. Obs: -4.54 -> Action: 1 -> Room: -4.579999999999999\n",
      "External: -17.58 \n",
      " Prev. Obs: -4.579999999999999 -> Action: 1 -> Room: -4.440000000000002\n",
      "External: -18.44 \n",
      " Prev. Obs: -4.440000000000002 -> Action: 1 -> Room: -4.120000000000002\n",
      "External: -19.12 \n",
      " Prev. Obs: -4.120000000000002 -> Action: 1 -> Room: -3.6100000000000003\n",
      "External: -19.61 \n",
      " Prev. Obs: -3.6100000000000003 -> Action: 1 -> Room: -2.910000000000001\n",
      "External: -19.91 \n",
      " Prev. Obs: -2.910000000000001 -> Action: 1 -> Room: -2.000000000000001\n",
      "External: -20.0 \n",
      " Prev. Obs: -2.000000000000001 -> Action: 1 -> Room: -0.8900000000000015\n",
      "External: -19.89 \n",
      " Prev. Obs: -0.8900000000000015 -> Action: 0 -> Room: -0.5900000000000007\n"
     ]
    }
   ],
   "source": [
    "for i in range(0, total_steps):  \n",
    "    \n",
    "    # solamente para evaluar la evolución de la temperatura de la habitación con y sin agente\n",
    "    # la temperatura de la habitación sin el agente es igual a la temperatura exterior\n",
    "    \n",
    "    external_temp = env.external_temp\n",
    "    external_res.append(external_temp)\n",
    "    \n",
    "    # decisión y acción del agente\n",
    "    \n",
    "    prev_obs = obs\n",
    "    action = agent.lookup(obs)\n",
    "    obs = env.step(action)\n",
    "    agent_res.append(obs)  \n",
    "    \n",
    "    print('External:', external_temp, '\\n','Prev. Obs:', prev_obs, '-> Action:', action, '-> Room:', obs)"
   ]
  },
  {
   "cell_type": "markdown",
   "metadata": {},
   "source": [
    "# Graficando los resultados"
   ]
  },
  {
   "cell_type": "code",
   "execution_count": 18,
   "metadata": {},
   "outputs": [
    {
     "data": {
      "text/plain": [
       "[<matplotlib.lines.Line2D at 0x7f95c7784140>]"
      ]
     },
     "execution_count": 18,
     "metadata": {},
     "output_type": "execute_result"
    },
    {
     "data": {
      "image/png": "[encoded data removed]",
      "text/plain": [
       "<Figure size 640x480 with 1 Axes>"
      ]
     },
     "metadata": {},
     "output_type": "display_data"
    }
   ],
   "source": [
    "plt.axhline(color='black')                                  #Temperatura ideal\n",
    "plt.plot(range(0, total_steps), agent_res, color='red')     #Temperatura con el agente\n",
    "plt.plot(range(0, total_steps), external_res, color='blue') #Temperatura sin agente"
   ]
  },
  {
   "cell_type": "markdown",
   "metadata": {},
   "source": [
    "# Métrica de Performance\n",
    "Una posible métrica de performance, podría ser ver la temperatura media del ambiente con la acción del agente."
   ]
  },
  {
   "cell_type": "code",
   "execution_count": null,
   "metadata": {},
   "outputs": [],
   "source": [
    "print(\"Temperatura media con el agente: \", np.mean(agent_res))\n",
    "print(\"Temperatura media sin el agente: \", np.mean(external_res))"
   ]
  },
  {
   "cell_type": "markdown",
   "metadata": {},
   "source": [
    "Otra posible métrica de performance, es evaluar para cada instante de tiempo (step) cuanto difiere la temperatura obtenida de la objetivo=0. Esto se puede hacer con mean_squared_error o mean_absolute_error. \n",
    "Comparemos la métrica obtenida por el agente contra la métrica obtenida sin un agente:"
   ]
  },
  {
   "cell_type": "code",
   "execution_count": null,
   "metadata": {},
   "outputs": [],
   "source": [
    "goal_temp = np.zeros(total_steps)\n",
    "print(\"Variación media con el agente: \", mean_absolute_error(goal_temp, agent_res))\n",
    "print(\"Variación media sin el agente: \", mean_absolute_error(goal_temp, external_res))"
   ]
  },
  {
   "cell_type": "markdown",
   "metadata": {},
   "source": [
    "# Ejercicio: Model (Goal / Utility) Based Agent "
   ]
  },
  {
   "cell_type": "markdown",
   "metadata": {},
   "source": [
    "Construir un Agente basado en un modelo. \n",
    "Esto es: \n",
    "    - Construir un modelo a mano, por ejemplo un grafo, con estados y transiciones [Ver figura].\n",
    "    - Discretizar las observaciones devueltas por el ambiente mapeándolas a un estado.\n",
    "    - Tomar una decisón basada en el estado.\n",
    "    - Definir un objetivo y una utilidad\n",
    "\n",
    "Por ejemplo, el Agente podría conocer un modelo que tiene 2 estados {Frío, Calor}\n",
    "<img src=\"Modelo.png\">\n"
   ]
  },
  {
   "cell_type": "markdown",
   "metadata": {},
   "source": [
    "# Roberto Agent"
   ]
  },
  {
   "cell_type": "code",
   "execution_count": 60,
   "metadata": {},
   "outputs": [],
   "source": [
    "class RobertoAgent():\n",
    "    \n",
    "    def __init__(self):\n",
    "        self.prev_obs = 0\n",
    "        self.prev_action = 0\n",
    "        \n",
    "    # def lookup(self, obs):\n",
    "    #     if obs > 0.5 and self.prev_obs < 1:\n",
    "    #         return -0.5\n",
    "    #     elif obs > 0 and self.prev_obs < 0.5:\n",
    "    #         return -0.2\n",
    "    #     elif obs < -0.5 and self.prev_obs > -1:\n",
    "    #         return 0.5\n",
    "    #     elif obs < 0 and self.prev_obs > -0.5:\n",
    "    #         return 0.2\n",
    "    #     elif obs > 8:\n",
    "    #         return -10\n",
    "    #     elif obs > 5:\n",
    "    #         return -4\n",
    "    #     elif obs > 2:\n",
    "    #         return -2\n",
    "    #     elif obs < -8:\n",
    "    #         return 10\n",
    "    #     elif obs < -5:\n",
    "    #         return 4\n",
    "    #     elif obs < -2:\n",
    "    #         return 2\n",
    "    #     else:\n",
    "    #         return 0\n",
    "\n",
    "    def lookup(self, obs):\n",
    "        if obs > 0 and self.prev_obs > 10:\n",
    "            return -3\n",
    "        elif obs < 0 and self.prev_obs < -10:\n",
    "            return 3\n",
    "        elif obs > 0 and self.prev_obs > 5:\n",
    "            return -2\n",
    "        elif obs > 0 and self.prev_obs > 2:\n",
    "            return -0.5\n",
    "        elif obs > 0 and self.prev_obs < 2:\n",
    "            return -0.2\n",
    "        elif obs < 0 and self.prev_obs < -5:\n",
    "            return 3\n",
    "        elif obs < 0 and self.prev_obs < -2:\n",
    "            return 0.5\n",
    "        elif obs < 0 and self.prev_obs > -2:\n",
    "            return 0.2\n",
    "        else:\n",
    "            return 0\n",
    "        \n",
    "        \n",
    "    def act(self, obs):\n",
    "        action = self.lookup(obs)\n",
    "        self.prev_obs = obs\n",
    "        self.prev_action = action\n",
    "        return action"
   ]
  },
  {
   "cell_type": "code",
   "execution_count": 61,
   "metadata": {},
   "outputs": [
    {
     "name": "stdout",
     "output_type": "stream",
     "text": [
      "External: 19.99 \n",
      " Prev. Obs: 19.99 -> Action: -0.2 -> Room: 19.79\n",
      "External: 19.99 \n",
      " Prev. Obs: 19.79 -> Action: -3 -> Room: 16.75\n",
      "External: 19.95 \n",
      " Prev. Obs: 16.75 -> Action: -3 -> Room: 13.510000000000002\n",
      "External: 19.71 \n",
      " Prev. Obs: 13.510000000000002 -> Action: -3 -> Room: 10.07\n",
      "External: 19.27 \n",
      " Prev. Obs: 10.07 -> Action: -3 -> Room: 6.440000000000001\n",
      "External: 18.64 \n",
      " Prev. Obs: 6.440000000000001 -> Action: -3 -> Room: 2.620000000000001\n",
      "External: 17.82 \n",
      " Prev. Obs: 2.620000000000001 -> Action: -2 -> Room: -0.379999999999999\n",
      "External: 16.82 \n",
      " Prev. Obs: -0.379999999999999 -> Action: 0.2 -> Room: -1.3399999999999992\n",
      "External: 15.66 \n",
      " Prev. Obs: -1.3399999999999992 -> Action: 0.2 -> Room: -2.4599999999999995\n",
      "External: 14.34 \n",
      " Prev. Obs: -2.4599999999999995 -> Action: 0.2 -> Room: -3.719999999999999\n",
      "External: 12.88 \n",
      " Prev. Obs: -3.719999999999999 -> Action: 0.5 -> Room: -4.82\n",
      "External: 11.28 \n",
      " Prev. Obs: -4.82 -> Action: 0.5 -> Room: -6.02\n",
      "External: 9.58 \n",
      " Prev. Obs: -6.02 -> Action: 0.5 -> Room: -7.319999999999999\n",
      "External: 7.78 \n",
      " Prev. Obs: -7.319999999999999 -> Action: 3 -> Room: -6.199999999999999\n",
      "External: 5.9 \n",
      " Prev. Obs: -6.199999999999999 -> Action: 3 -> Room: -5.14\n",
      "External: 3.96 \n",
      " Prev. Obs: -5.14 -> Action: 3 -> Room: -4.109999999999999\n",
      "External: 1.99 \n",
      " Prev. Obs: -4.109999999999999 -> Action: 3 -> Room: -3.1099999999999994\n",
      "External: -0.010000000000000009 \n",
      " Prev. Obs: -3.1099999999999994 -> Action: 0.5 -> Room: -4.609999999999999\n",
      "External: -2.01 \n",
      " Prev. Obs: -4.609999999999999 -> Action: 0.5 -> Room: -6.08\n",
      "External: -3.98 \n",
      " Prev. Obs: -6.08 -> Action: 0.5 -> Room: -7.52\n",
      "External: -5.92 \n",
      " Prev. Obs: -7.52 -> Action: 3 -> Room: -6.3999999999999995\n",
      "External: -7.8 \n",
      " Prev. Obs: -6.3999999999999995 -> Action: 3 -> Room: -5.199999999999999\n",
      "External: -9.6 \n",
      " Prev. Obs: -5.199999999999999 -> Action: 3 -> Room: -3.9000000000000004\n",
      "External: -11.3 \n",
      " Prev. Obs: -3.9000000000000004 -> Action: 3 -> Room: -2.49\n",
      "External: -12.89 \n",
      " Prev. Obs: -2.49 -> Action: 0.5 -> Room: -3.4499999999999993\n",
      "External: -14.35 \n",
      " Prev. Obs: -3.4499999999999993 -> Action: 0.5 -> Room: -4.27\n",
      "External: -15.67 \n",
      " Prev. Obs: -4.27 -> Action: 0.5 -> Room: -4.929999999999998\n",
      "External: -16.83 \n",
      " Prev. Obs: -4.929999999999998 -> Action: 0.5 -> Room: -5.429999999999998\n",
      "External: -17.83 \n",
      " Prev. Obs: -5.429999999999998 -> Action: 0.5 -> Room: -5.74\n",
      "External: -18.64 \n",
      " Prev. Obs: -5.74 -> Action: 3 -> Room: -3.369999999999999\n",
      "External: -19.27 \n",
      " Prev. Obs: -3.369999999999999 -> Action: 3 -> Room: -0.8100000000000005\n",
      "External: -19.71 \n",
      " Prev. Obs: -0.8100000000000005 -> Action: 0.5 -> Room: -0.5499999999999989\n",
      "External: -19.95 \n",
      " Prev. Obs: -0.5499999999999989 -> Action: 0.2 -> Room: -0.38999999999999807\n",
      "External: -19.99 \n",
      " Prev. Obs: -0.38999999999999807 -> Action: 0.2 -> Room: -0.029999999999997917\n",
      "External: -19.83 \n",
      " Prev. Obs: -0.029999999999997917 -> Action: 0.2 -> Room: 0.5300000000000015\n",
      "External: -19.47 \n",
      " Prev. Obs: 0.5300000000000015 -> Action: -0.2 -> Room: 0.8799999999999986\n",
      "External: -18.92 \n",
      " Prev. Obs: 0.8799999999999986 -> Action: -0.2 -> Room: 1.4200000000000006\n",
      "External: -18.18 \n",
      " Prev. Obs: 1.4200000000000006 -> Action: -0.2 -> Room: 2.139999999999999\n",
      "External: -17.26 \n",
      " Prev. Obs: 2.139999999999999 -> Action: -0.2 -> Room: 3.04\n",
      "External: -16.16 \n",
      " Prev. Obs: 3.04 -> Action: -0.5 -> Room: 3.79\n",
      "External: -14.91 \n",
      " Prev. Obs: 3.79 -> Action: -0.5 -> Room: 4.7\n",
      "External: -13.5 \n",
      " Prev. Obs: 4.7 -> Action: -0.5 -> Room: 5.739999999999999\n",
      "External: -11.96 \n",
      " Prev. Obs: 5.739999999999999 -> Action: -0.5 -> Room: 6.8999999999999995\n",
      "External: -10.3 \n",
      " Prev. Obs: 6.8999999999999995 -> Action: -2 -> Room: 6.660000000000001\n",
      "External: -8.54 \n",
      " Prev. Obs: 6.660000000000001 -> Action: -2 -> Room: 6.51\n",
      "External: -6.69 \n",
      " Prev. Obs: 6.51 -> Action: -2 -> Room: 6.42\n",
      "External: -4.78 \n",
      " Prev. Obs: 6.42 -> Action: -2 -> Room: 6.390000000000001\n",
      "External: -2.81 \n",
      " Prev. Obs: 6.390000000000001 -> Action: -2 -> Room: 6.380000000000001\n",
      "External: -0.8199999999999998 \n",
      " Prev. Obs: 6.380000000000001 -> Action: -2 -> Room: 6.380000000000001\n",
      "External: 1.18 \n",
      " Prev. Obs: 6.380000000000001 -> Action: -2 -> Room: 6.370000000000001\n",
      "External: 3.17 \n",
      " Prev. Obs: 6.370000000000001 -> Action: -2 -> Room: 6.320000000000001\n",
      "External: 5.12 \n",
      " Prev. Obs: 6.320000000000001 -> Action: -2 -> Room: 6.230000000000001\n",
      "External: 7.03 \n",
      " Prev. Obs: 6.230000000000001 -> Action: -2 -> Room: 6.0600000000000005\n",
      "External: 8.86 \n",
      " Prev. Obs: 6.0600000000000005 -> Action: -2 -> Room: 5.8100000000000005\n",
      "External: 10.61 \n",
      " Prev. Obs: 5.8100000000000005 -> Action: -2 -> Room: 5.450000000000001\n",
      "External: 12.25 \n",
      " Prev. Obs: 5.450000000000001 -> Action: -2 -> Room: 4.960000000000001\n",
      "External: 13.76 \n",
      " Prev. Obs: 4.960000000000001 -> Action: -2 -> Room: 4.340000000000002\n",
      "External: 15.14 \n",
      " Prev. Obs: 4.340000000000002 -> Action: -0.5 -> Room: 5.070000000000002\n",
      "External: 16.37 \n",
      " Prev. Obs: 5.070000000000002 -> Action: -0.5 -> Room: 5.640000000000002\n",
      "External: 17.44 \n",
      " Prev. Obs: 5.640000000000002 -> Action: -2 -> Room: 4.529999999999999\n",
      "External: 18.33 \n",
      " Prev. Obs: 4.529999999999999 -> Action: -2 -> Room: 3.24\n",
      "External: 19.04 \n",
      " Prev. Obs: 3.24 -> Action: -0.5 -> Room: 3.2500000000000018\n",
      "External: 19.55 \n",
      " Prev. Obs: 3.2500000000000018 -> Action: -0.5 -> Room: 3.070000000000002\n",
      "External: 19.87 \n",
      " Prev. Obs: 3.070000000000002 -> Action: -0.5 -> Room: 2.700000000000001\n",
      "External: 20.0 \n",
      " Prev. Obs: 2.700000000000001 -> Action: -0.5 -> Room: 2.1200000000000028\n",
      "External: 19.92 \n",
      " Prev. Obs: 2.1200000000000028 -> Action: -0.5 -> Room: 1.3499999999999996\n",
      "External: 19.65 \n",
      " Prev. Obs: 1.3499999999999996 -> Action: -0.5 -> Room: 0.3800000000000008\n",
      "External: 19.18 \n",
      " Prev. Obs: 0.3800000000000008 -> Action: -0.2 -> Room: -0.4899999999999973\n",
      "External: 18.51 \n",
      " Prev. Obs: -0.4899999999999973 -> Action: 0.2 -> Room: -1.1399999999999988\n",
      "External: 17.66 \n",
      " Prev. Obs: -1.1399999999999988 -> Action: 0.2 -> Room: -1.9599999999999984\n",
      "External: 16.64 \n",
      " Prev. Obs: -1.9599999999999984 -> Action: 0.2 -> Room: -2.9499999999999997\n",
      "External: 15.45 \n",
      " Prev. Obs: -2.9499999999999997 -> Action: 0.2 -> Room: -4.1\n",
      "External: 14.1 \n",
      " Prev. Obs: -4.1 -> Action: 0.5 -> Room: -5.08\n",
      "External: 12.62 \n",
      " Prev. Obs: -5.08 -> Action: 0.5 -> Room: -6.1899999999999995\n",
      "External: 11.01 \n",
      " Prev. Obs: -6.1899999999999995 -> Action: 3 -> Room: -4.92\n",
      "External: 9.28 \n",
      " Prev. Obs: -4.92 -> Action: 3 -> Room: -3.7299999999999995\n",
      "External: 7.47 \n",
      " Prev. Obs: -3.7299999999999995 -> Action: 0.5 -> Room: -5.119999999999999\n",
      "External: 5.58 \n",
      " Prev. Obs: -5.119999999999999 -> Action: 0.5 -> Room: -6.569999999999999\n",
      "External: 3.63 \n",
      " Prev. Obs: -6.569999999999999 -> Action: 3 -> Room: -5.549999999999999\n",
      "External: 1.65 \n",
      " Prev. Obs: -5.549999999999999 -> Action: 3 -> Room: -4.549999999999999\n",
      "External: -0.3500000000000001 \n",
      " Prev. Obs: -4.549999999999999 -> Action: 3 -> Room: -3.5399999999999987\n",
      "External: -2.34 \n",
      " Prev. Obs: -3.5399999999999987 -> Action: 0.5 -> Room: -5.009999999999998\n",
      "External: -4.31 \n",
      " Prev. Obs: -5.009999999999998 -> Action: 0.5 -> Room: -6.439999999999999\n",
      "External: -6.24 \n",
      " Prev. Obs: -6.439999999999999 -> Action: 3 -> Room: -5.309999999999998\n",
      "External: -8.11 \n",
      " Prev. Obs: -5.309999999999998 -> Action: 3 -> Room: -4.089999999999999\n",
      "External: -9.89 \n",
      " Prev. Obs: -4.089999999999999 -> Action: 3 -> Room: -2.7799999999999985\n",
      "External: -11.58 \n",
      " Prev. Obs: -2.7799999999999985 -> Action: 0.5 -> Room: -3.8499999999999988\n",
      "External: -13.15 \n",
      " Prev. Obs: -3.8499999999999988 -> Action: 0.5 -> Room: -4.789999999999998\n",
      "External: -14.59 \n",
      " Prev. Obs: -4.789999999999998 -> Action: 0.5 -> Room: -5.579999999999999\n",
      "External: -15.88 \n",
      " Prev. Obs: -5.579999999999999 -> Action: 0.5 -> Room: -6.21\n",
      "External: -17.01 \n",
      " Prev. Obs: -6.21 -> Action: 3 -> Room: -4.179999999999999\n",
      "External: -17.98 \n",
      " Prev. Obs: -4.179999999999999 -> Action: 3 -> Room: -1.96\n",
      "External: -18.76 \n",
      " Prev. Obs: -1.96 -> Action: 0.5 -> Room: -2.059999999999998\n",
      "External: -19.36 \n",
      " Prev. Obs: -2.059999999999998 -> Action: 0.2 -> Room: -2.26\n",
      "External: -19.76 \n",
      " Prev. Obs: -2.26 -> Action: 0.5 -> Room: -1.969999999999997\n",
      "External: -19.97 \n",
      " Prev. Obs: -1.969999999999997 -> Action: 0.5 -> Room: -1.4799999999999986\n",
      "External: -19.98 \n",
      " Prev. Obs: -1.4799999999999986 -> Action: 0.2 -> Room: -1.0899999999999974\n",
      "External: -19.79 \n",
      " Prev. Obs: -1.0899999999999974 -> Action: 0.2 -> Room: -0.4999999999999969\n",
      "External: -19.4 \n",
      " Prev. Obs: -0.4999999999999969 -> Action: 0.2 -> Room: 0.2900000000000029\n",
      "External: -18.81 \n",
      " Prev. Obs: 0.2900000000000029 -> Action: -0.2 -> Room: 0.8600000000000025\n"
     ]
    }
   ],
   "source": [
    "agent = RobertoAgent()\n",
    "\n",
    "obs = env.reset()\n",
    "external_res = []\n",
    "agent_res = []\n",
    "total_steps = 100\n",
    "\n",
    "for i in range(0, total_steps):  \n",
    "    \n",
    "    # solamente para evaluar la evolución de la temperatura de la habitación con y sin agente\n",
    "    # la temperatura de la habitación sin el agente es igual a la temperatura exterior\n",
    "    \n",
    "    external_temp = env.external_temp\n",
    "    external_res.append(external_temp)\n",
    "    \n",
    "    # decisión y acción del agente\n",
    "    \n",
    "    prev_obs = obs\n",
    "    action = agent.act(obs)\n",
    "    obs = env.step(action)\n",
    "    agent_res.append(obs)  \n",
    "    \n",
    "    print('External:', external_temp, '\\n','Prev. Obs:', prev_obs, '-> Action:', action, '-> Room:', obs)\n"
   ]
  },
  {
   "cell_type": "code",
   "execution_count": 62,
   "metadata": {},
   "outputs": [
    {
     "data": {
      "text/plain": [
       "[<matplotlib.lines.Line2D at 0x7f95c4dbf830>]"
      ]
     },
     "execution_count": 62,
     "metadata": {},
     "output_type": "execute_result"
    },
    {
     "data": {
      "image/png": "[encoded data removed]",
      "text/plain": [
       "<Figure size 640x480 with 1 Axes>"
      ]
     },
     "metadata": {},
     "output_type": "display_data"
    }
   ],
   "source": [
    "plt.axhline(color='black')                                  #Temperatura ideal\n",
    "plt.plot(range(0, total_steps), agent_res, color='red')     #Temperatura con el agente\n",
    "plt.plot(range(0, total_steps), external_res, color='blue') #Temperatura sin agente"
   ]
  }
 ],
 "metadata": {
  "kernelspec": {
   "display_name": ".venv",
   "language": "python",
   "name": "python3"
  },
  "language_info": {
   "codemirror_mode": {
    "name": "ipython",
    "version": 3
   },
   "file_extension": ".py",
   "mimetype": "text/x-python",
   "name": "python",
   "nbconvert_exporter": "python",
   "pygments_lexer": "ipython3",
   "version": "3.10.8"
  }
 },
 "nbformat": 4,
 "nbformat_minor": 4
}
