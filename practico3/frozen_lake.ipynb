{
 "cells": [
  {
   "cell_type": "markdown",
   "metadata": {},
   "source": [
    "## Práctico 3: Frozen Lake"
   ]
  },
  {
   "cell_type": "markdown",
   "metadata": {},
   "source": [
    "### Dependencias"
   ]
  },
  {
   "cell_type": "code",
   "execution_count": 1,
   "metadata": {},
   "outputs": [],
   "source": [
    "import gymnasium\n",
    "from gymnasium.envs.toy_text.frozen_lake import generate_random_map\n",
    "from model import Model\n",
    "from main import main"
   ]
  },
  {
   "cell_type": "markdown",
   "metadata": {},
   "source": [
    "### Probando el ambiente"
   ]
  },
  {
   "cell_type": "markdown",
   "metadata": {},
   "source": [
    "Recomendamos comentar esta parte cuando ejecuten UCS y A*"
   ]
  },
  {
   "cell_type": "code",
   "execution_count": 2,
   "metadata": {},
   "outputs": [],
   "source": [
    "env = gymnasium.make(\n",
    "            \"FrozenLake-v1\",\n",
    "            desc=generate_random_map(size=4), # genera un mapa aleatorio de dimension 4x4\n",
    "            is_slippery=False, # probabilidad 0 de resbalar (100% determinista)\n",
    "            render_mode=\"human\", # muestra el entorno en pantalla\n",
    "        )"
   ]
  },
  {
   "cell_type": "markdown",
   "metadata": {},
   "source": [
    "Action Space y Observation Space"
   ]
  },
  {
   "cell_type": "code",
   "execution_count": 5,
   "metadata": {},
   "outputs": [
    {
     "name": "stdout",
     "output_type": "stream",
     "text": [
      "Action Space:  Discrete(4)\n",
      "Observation Space:  Discrete(16)\n",
      "Accion aleatoria:  3\n",
      "Observacion aleatoria:  1\n"
     ]
    }
   ],
   "source": [
    "print(\"Action Space: \", env.action_space)\n",
    "print(\"Observation Space: \", env.observation_space)\n",
    "\n",
    "print(\"Accion aleatoria: \", env.action_space.sample())\n",
    "print(\"Observacion aleatoria: \", env.observation_space.sample())"
   ]
  },
  {
   "cell_type": "markdown",
   "metadata": {},
   "source": [
    "Imprimir el laberinto"
   ]
  },
  {
   "cell_type": "code",
   "execution_count": 8,
   "metadata": {},
   "outputs": [
    {
     "name": "stdout",
     "output_type": "stream",
     "text": [
      "[[b'S' b'H' b'F' b'F']\n",
      " [b'F' b'F' b'F' b'F']\n",
      " [b'F' b'F' b'F' b'F']\n",
      " [b'F' b'F' b'F' b'G']]\n"
     ]
    }
   ],
   "source": [
    "print(env.unwrapped.desc)\n",
    "\n",
    "\n"
   ]
  },
  {
   "cell_type": "markdown",
   "metadata": {},
   "source": [
    "Jugando aleatoriamente"
   ]
  },
  {
   "cell_type": "code",
   "execution_count": null,
   "metadata": {},
   "outputs": [],
   "source": [
    "done = False\n",
    "env.reset()\n",
    "\n",
    "while not done:\n",
    "    action = env.action_space.sample()\n",
    "    observation, reward, done, _, _ = env.step(action)"
   ]
  },
  {
   "cell_type": "markdown",
   "metadata": {},
   "source": [
    "### Utilizando el modelo del ambiente"
   ]
  },
  {
   "cell_type": "code",
   "execution_count": 13,
   "metadata": {},
   "outputs": [
    {
     "data": {
      "text/plain": [
       "{2: 1, 0: 0, 3: 0, 1: 4}"
      ]
     },
     "execution_count": 13,
     "metadata": {},
     "output_type": "execute_result"
    }
   ],
   "source": [
    "model = Model(env.unwrapped.desc)\n",
    "model.graph\n",
    "\n",
    "model.graph[0]"
   ]
  },
  {
   "cell_type": "markdown",
   "metadata": {},
   "source": [
    "Obtener las posiciones *x* e *y* de un estado"
   ]
  },
  {
   "cell_type": "code",
   "execution_count": 14,
   "metadata": {},
   "outputs": [
    {
     "name": "stdout",
     "output_type": "stream",
     "text": [
      "El estado es:  12  y sus coordenadas son:  0 3\n"
     ]
    }
   ],
   "source": [
    "n = env.unwrapped.desc.shape[0]\n",
    "state = 12\n",
    "x_state = state % n\n",
    "y_state = state // n\n",
    "\n",
    "print(\"El estado es: \", state, \" y sus coordenadas son: \", x_state, y_state)"
   ]
  },
  {
   "cell_type": "markdown",
   "metadata": {},
   "source": [
    "### Ejecutar Main"
   ]
  },
  {
   "cell_type": "code",
   "execution_count": null,
   "metadata": {},
   "outputs": [],
   "source": [
    "from main import main\n",
    "\n",
    "main()"
   ]
  },
  {
   "cell_type": "code",
   "execution_count": 3,
   "metadata": {},
   "outputs": [
    {
     "name": "stdout",
     "output_type": "stream",
     "text": [
      "Initial position:  0\n",
      "Current position:  0\n",
      "Possible actions:  {2: 1, 0: 0, 3: 0, 1: 4}\n",
      "Action:  2\n",
      "Adding to queue:  1\n",
      "Action:  0\n",
      "Action:  3\n",
      "Action:  1\n",
      "Adding to queue:  4\n",
      "Current position:  1\n",
      "Possible actions:  {}\n",
      "Current position:  2\n",
      "Possible actions:  {2: 3, 0: 1, 3: 2, 1: 6}\n",
      "Action:  2\n",
      "Adding to queue:  3\n",
      "Action:  0\n",
      "Action:  3\n",
      "Adding to queue:  2\n",
      "Action:  1\n",
      "Adding to queue:  6\n",
      "Current position:  1\n",
      "Possible actions:  {}\n",
      "Current position:  3\n",
      "Possible actions:  {2: 3, 0: 2, 3: 3, 1: 7}\n",
      "Action:  2\n",
      "Action:  0\n",
      "Action:  3\n",
      "Action:  1\n",
      "Adding to queue:  7\n",
      "Current position:  1\n",
      "Possible actions:  {}\n",
      "Current position:  2\n",
      "Possible actions:  {2: 3, 0: 1, 3: 2, 1: 6}\n",
      "Action:  2\n",
      "Action:  0\n",
      "Action:  3\n",
      "Action:  1\n",
      "Acciones:  None\n"
     ]
    }
   ],
   "source": [
    "from ucs_agent import UCSAgent\n",
    "from model import Model\n",
    "\n",
    "model = Model(env.unwrapped.desc)\n",
    "\n",
    "agent = UCSAgent(env,0, 15, model)\n",
    "actions = agent.ucs()\n",
    "print(\"Acciones: \", actions)"
   ]
  }
 ],
 "metadata": {
  "kernelspec": {
   "display_name": ".venv",
   "language": "python",
   "name": "python3"
  },
  "language_info": {
   "codemirror_mode": {
    "name": "ipython",
    "version": 3
   },
   "file_extension": ".py",
   "mimetype": "text/x-python",
   "name": "python",
   "nbconvert_exporter": "python",
   "pygments_lexer": "ipython3",
   "version": "3.10.8"
  }
 },
 "nbformat": 4,
 "nbformat_minor": 2
}
